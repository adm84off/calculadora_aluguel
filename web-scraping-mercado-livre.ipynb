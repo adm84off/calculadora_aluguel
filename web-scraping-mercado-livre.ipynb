{
 "cells": [
  {
   "cell_type": "code",
   "execution_count": 1,
   "metadata": {},
   "outputs": [],
   "source": [
    "# Imports\n",
    "import requests\n",
    "from bs4 import BeautifulSoup\n",
    "import pandas as pd\n",
    "from time import sleep"
   ]
  },
  {
   "cell_type": "code",
   "execution_count": 2,
   "metadata": {},
   "outputs": [],
   "source": [
    "# Parameters\n",
    "zonas = ['norte', 'sul', 'leste', 'oeste']\n",
    "URL='https://imoveis.mercadolivre.com.br/casas/aluguel/sao-paulo/sao-paulo-zona-{}/{}'\n",
    "paginas = ['', '_Desde_49', '_Desde_97', '_Desde_145', '_Desde_193', \n",
    "           '_Desde_241', '_Desde_289']"
   ]
  },
  {
   "cell_type": "code",
   "execution_count": 3,
   "metadata": {},
   "outputs": [],
   "source": [
    "# Functions\n",
    "def scrap(url):\n",
    "    c=requests.get(url).content\n",
    "    soup=BeautifulSoup(c)\n",
    "    aluguel_tags = soup.find_all('span', {'class':'price-tag-fraction'})\n",
    "    alugueis_lista = [p.text for p in aluguel_tags]\n",
    "    enderecos_tags = soup.find_all('span', {'class':'ui-search-item__group__element'})\n",
    "    enderecos_lista=[end.text for end in enderecos_tags]\n",
    "    enderecos_lista=enderecos_lista[1::2]\n",
    "    area_quartos_tags = soup.find_all('ul', {'class':'ui-search-card-attributes'})\n",
    "    area_quartos_lista=[aq.text for aq in area_quartos_tags]\n",
    "    df=convert_df(zona, area_quartos_lista, enderecos_lista, alugueis_lista)\n",
    "    return df"
   ]
  },
  {
   "cell_type": "code",
   "execution_count": 4,
   "metadata": {},
   "outputs": [],
   "source": [
    "def convert_df(zona, area_quartos_lista, enderecos_lista, alugueis_lista):\n",
    "    zonas_lista = [zona]*len(alugueis_lista)\n",
    "    data = {'zona': zonas_lista,\n",
    "            'area_quartos': area_quartos_lista,\n",
    "            'enderecos_lista':enderecos_lista,\n",
    "            'aluguel': alugueis_lista}\n",
    "    df = pd.DataFrame(data)\n",
    "    return df"
   ]
  },
  {
   "cell_type": "code",
   "execution_count": 5,
   "metadata": {},
   "outputs": [
    {
     "name": "stdout",
     "output_type": "stream",
     "text": [
      "Coletando URL: https://imoveis.mercadolivre.com.br/casas/aluguel/sao-paulo/sao-paulo-zona-norte/\n",
      "Coletando URL: https://imoveis.mercadolivre.com.br/casas/aluguel/sao-paulo/sao-paulo-zona-norte/_Desde_49\n",
      "Coletando URL: https://imoveis.mercadolivre.com.br/casas/aluguel/sao-paulo/sao-paulo-zona-norte/_Desde_97\n",
      "Coletando URL: https://imoveis.mercadolivre.com.br/casas/aluguel/sao-paulo/sao-paulo-zona-norte/_Desde_145\n",
      "Coletando URL: https://imoveis.mercadolivre.com.br/casas/aluguel/sao-paulo/sao-paulo-zona-norte/_Desde_193\n",
      "Coletando URL: https://imoveis.mercadolivre.com.br/casas/aluguel/sao-paulo/sao-paulo-zona-norte/_Desde_241\n",
      "Coletando URL: https://imoveis.mercadolivre.com.br/casas/aluguel/sao-paulo/sao-paulo-zona-norte/_Desde_289\n",
      "Coletando URL: https://imoveis.mercadolivre.com.br/casas/aluguel/sao-paulo/sao-paulo-zona-sul/\n",
      "Coletando URL: https://imoveis.mercadolivre.com.br/casas/aluguel/sao-paulo/sao-paulo-zona-sul/_Desde_49\n",
      "Coletando URL: https://imoveis.mercadolivre.com.br/casas/aluguel/sao-paulo/sao-paulo-zona-sul/_Desde_97\n",
      "Coletando URL: https://imoveis.mercadolivre.com.br/casas/aluguel/sao-paulo/sao-paulo-zona-sul/_Desde_145\n",
      "Coletando URL: https://imoveis.mercadolivre.com.br/casas/aluguel/sao-paulo/sao-paulo-zona-sul/_Desde_193\n",
      "Coletando URL: https://imoveis.mercadolivre.com.br/casas/aluguel/sao-paulo/sao-paulo-zona-sul/_Desde_241\n",
      "Erro ao coletar URL: https://imoveis.mercadolivre.com.br/casas/aluguel/sao-paulo/sao-paulo-zona-sul/_Desde_241\n",
      "arrays must all be same length\n",
      "Coletando URL: https://imoveis.mercadolivre.com.br/casas/aluguel/sao-paulo/sao-paulo-zona-sul/_Desde_289\n",
      "Coletando URL: https://imoveis.mercadolivre.com.br/casas/aluguel/sao-paulo/sao-paulo-zona-leste/\n",
      "Coletando URL: https://imoveis.mercadolivre.com.br/casas/aluguel/sao-paulo/sao-paulo-zona-leste/_Desde_49\n",
      "Coletando URL: https://imoveis.mercadolivre.com.br/casas/aluguel/sao-paulo/sao-paulo-zona-leste/_Desde_97\n",
      "Coletando URL: https://imoveis.mercadolivre.com.br/casas/aluguel/sao-paulo/sao-paulo-zona-leste/_Desde_145\n",
      "Coletando URL: https://imoveis.mercadolivre.com.br/casas/aluguel/sao-paulo/sao-paulo-zona-leste/_Desde_193\n",
      "Coletando URL: https://imoveis.mercadolivre.com.br/casas/aluguel/sao-paulo/sao-paulo-zona-leste/_Desde_241\n",
      "Coletando URL: https://imoveis.mercadolivre.com.br/casas/aluguel/sao-paulo/sao-paulo-zona-leste/_Desde_289\n",
      "Erro ao coletar URL: https://imoveis.mercadolivre.com.br/casas/aluguel/sao-paulo/sao-paulo-zona-leste/_Desde_289\n",
      "arrays must all be same length\n",
      "Coletando URL: https://imoveis.mercadolivre.com.br/casas/aluguel/sao-paulo/sao-paulo-zona-oeste/\n",
      "Coletando URL: https://imoveis.mercadolivre.com.br/casas/aluguel/sao-paulo/sao-paulo-zona-oeste/_Desde_49\n",
      "Erro ao coletar URL: https://imoveis.mercadolivre.com.br/casas/aluguel/sao-paulo/sao-paulo-zona-oeste/_Desde_49\n",
      "arrays must all be same length\n",
      "Coletando URL: https://imoveis.mercadolivre.com.br/casas/aluguel/sao-paulo/sao-paulo-zona-oeste/_Desde_97\n",
      "Erro ao coletar URL: https://imoveis.mercadolivre.com.br/casas/aluguel/sao-paulo/sao-paulo-zona-oeste/_Desde_97\n",
      "arrays must all be same length\n",
      "Coletando URL: https://imoveis.mercadolivre.com.br/casas/aluguel/sao-paulo/sao-paulo-zona-oeste/_Desde_145\n",
      "Coletando URL: https://imoveis.mercadolivre.com.br/casas/aluguel/sao-paulo/sao-paulo-zona-oeste/_Desde_193\n",
      "Coletando URL: https://imoveis.mercadolivre.com.br/casas/aluguel/sao-paulo/sao-paulo-zona-oeste/_Desde_241\n",
      "Coletando URL: https://imoveis.mercadolivre.com.br/casas/aluguel/sao-paulo/sao-paulo-zona-oeste/_Desde_289\n"
     ]
    }
   ],
   "source": [
    "# Execution\n",
    "df_lista = []\n",
    "for zona in zonas:\n",
    "  for pg in paginas:\n",
    "    url=URL.format(zona, pg)\n",
    "    print('Coletando URL:', url)\n",
    "    try:\n",
    "      df=scrap(url)\n",
    "    except Exception as e:\n",
    "      print('Erro ao coletar URL:', url)\n",
    "      print(e)\n",
    "    df_lista.append(df)\n",
    "    sleep(1)\n",
    "df_final = pd.concat(df_lista)"
   ]
  },
  {
   "cell_type": "code",
   "execution_count": 6,
   "metadata": {},
   "outputs": [
    {
     "data": {
      "text/html": [
       "<div>\n",
       "<style scoped>\n",
       "    .dataframe tbody tr th:only-of-type {\n",
       "        vertical-align: middle;\n",
       "    }\n",
       "\n",
       "    .dataframe tbody tr th {\n",
       "        vertical-align: top;\n",
       "    }\n",
       "\n",
       "    .dataframe thead th {\n",
       "        text-align: right;\n",
       "    }\n",
       "</style>\n",
       "<table border=\"1\" class=\"dataframe\">\n",
       "  <thead>\n",
       "    <tr style=\"text-align: right;\">\n",
       "      <th></th>\n",
       "      <th>zona</th>\n",
       "      <th>area_quartos</th>\n",
       "      <th>enderecos_lista</th>\n",
       "      <th>aluguel</th>\n",
       "    </tr>\n",
       "  </thead>\n",
       "  <tbody>\n",
       "    <tr>\n",
       "      <th>0</th>\n",
       "      <td>norte</td>\n",
       "      <td>42 m² construídos2 quartos</td>\n",
       "      <td>Parque Peruche, São Paulo Zona Norte, São Paulo</td>\n",
       "      <td>950</td>\n",
       "    </tr>\n",
       "    <tr>\n",
       "      <th>1</th>\n",
       "      <td>norte</td>\n",
       "      <td>100 m² construídos2 quartos</td>\n",
       "      <td>Rua Monte Douro,\\n                82-, Tucuruv...</td>\n",
       "      <td>2.800</td>\n",
       "    </tr>\n",
       "    <tr>\n",
       "      <th>2</th>\n",
       "      <td>norte</td>\n",
       "      <td>160 m² construídos4 quartos</td>\n",
       "      <td>Jardim França, São Paulo Zona Norte, São Paulo</td>\n",
       "      <td>5.400</td>\n",
       "    </tr>\n",
       "    <tr>\n",
       "      <th>3</th>\n",
       "      <td>norte</td>\n",
       "      <td>70 m² construídos1 quarto</td>\n",
       "      <td>Nobrega De Souza Coutinho 05, Jardim Peri, São...</td>\n",
       "      <td>600</td>\n",
       "    </tr>\n",
       "    <tr>\n",
       "      <th>4</th>\n",
       "      <td>norte</td>\n",
       "      <td>80 m² construídos2 quartos</td>\n",
       "      <td>Rua José Eduardo Raduan 5, Parque Edu Chaves, ...</td>\n",
       "      <td>1.299</td>\n",
       "    </tr>\n",
       "  </tbody>\n",
       "</table>\n",
       "</div>"
      ],
      "text/plain": [
       "    zona                 area_quartos  \\\n",
       "0  norte   42 m² construídos2 quartos   \n",
       "1  norte  100 m² construídos2 quartos   \n",
       "2  norte  160 m² construídos4 quartos   \n",
       "3  norte    70 m² construídos1 quarto   \n",
       "4  norte   80 m² construídos2 quartos   \n",
       "\n",
       "                                     enderecos_lista aluguel  \n",
       "0    Parque Peruche, São Paulo Zona Norte, São Paulo     950  \n",
       "1  Rua Monte Douro,\\n                82-, Tucuruv...   2.800  \n",
       "2     Jardim França, São Paulo Zona Norte, São Paulo   5.400  \n",
       "3  Nobrega De Souza Coutinho 05, Jardim Peri, São...     600  \n",
       "4  Rua José Eduardo Raduan 5, Parque Edu Chaves, ...   1.299  "
      ]
     },
     "execution_count": 6,
     "metadata": {},
     "output_type": "execute_result"
    }
   ],
   "source": [
    "df_final.head()"
   ]
  },
  {
   "cell_type": "code",
   "execution_count": null,
   "metadata": {},
   "outputs": [],
   "source": []
  }
 ],
 "metadata": {
  "kernelspec": {
   "display_name": "Python 3",
   "language": "python",
   "name": "python3"
  },
  "language_info": {
   "codemirror_mode": {
    "name": "ipython",
    "version": 3
   },
   "file_extension": ".py",
   "mimetype": "text/x-python",
   "name": "python",
   "nbconvert_exporter": "python",
   "pygments_lexer": "ipython3",
   "version": "3.8.3"
  }
 },
 "nbformat": 4,
 "nbformat_minor": 4
}
