{
 "cells": [
  {
   "cell_type": "code",
   "execution_count": 96,
   "metadata": {},
   "outputs": [],
   "source": [
    "import pandas as pd\n",
    "import matplotlib.pyplot as plt\n",
    "import seaborn as sns\n",
    "import numpy as np"
   ]
  },
  {
   "cell_type": "markdown",
   "metadata": {},
   "source": [
    "**1. Importar e Preparar os Dados**"
   ]
  },
  {
   "cell_type": "code",
   "execution_count": 97,
   "metadata": {},
   "outputs": [],
   "source": [
    "url = 'https://raw.githubusercontent.com/fernandoawari/calculadora-aluguel-turma-set-20/main/2-manipulacao/dados_aluguel_ml_sao_paulo_preprocessado.csv'"
   ]
  },
  {
   "cell_type": "code",
   "execution_count": 98,
   "metadata": {},
   "outputs": [
    {
     "data": {
      "text/html": [
       "<div>\n",
       "<style scoped>\n",
       "    .dataframe tbody tr th:only-of-type {\n",
       "        vertical-align: middle;\n",
       "    }\n",
       "\n",
       "    .dataframe tbody tr th {\n",
       "        vertical-align: top;\n",
       "    }\n",
       "\n",
       "    .dataframe thead th {\n",
       "        text-align: right;\n",
       "    }\n",
       "</style>\n",
       "<table border=\"1\" class=\"dataframe\">\n",
       "  <thead>\n",
       "    <tr style=\"text-align: right;\">\n",
       "      <th></th>\n",
       "      <th>zona</th>\n",
       "      <th>enderecos_lista</th>\n",
       "      <th>area</th>\n",
       "      <th>quartos</th>\n",
       "      <th>aluguel</th>\n",
       "    </tr>\n",
       "  </thead>\n",
       "  <tbody>\n",
       "    <tr>\n",
       "      <th>0</th>\n",
       "      <td>norte</td>\n",
       "      <td>Praça Rafael Mendes De Carvalho, Jardim Paraís...</td>\n",
       "      <td>50.0</td>\n",
       "      <td>2.0</td>\n",
       "      <td>1150</td>\n",
       "    </tr>\n",
       "    <tr>\n",
       "      <th>1</th>\n",
       "      <td>norte</td>\n",
       "      <td>Rua Almirante Noronha, Jardim São Paulo, São P...</td>\n",
       "      <td>76.0</td>\n",
       "      <td>3.0</td>\n",
       "      <td>1480</td>\n",
       "    </tr>\n",
       "    <tr>\n",
       "      <th>2</th>\n",
       "      <td>norte</td>\n",
       "      <td>Rua Cássio De Almeida, Vila Guilherme, São Pau...</td>\n",
       "      <td>30.0</td>\n",
       "      <td>1.0</td>\n",
       "      <td>800</td>\n",
       "    </tr>\n",
       "    <tr>\n",
       "      <th>3</th>\n",
       "      <td>norte</td>\n",
       "      <td>Rua Cabo José Da Silva, Parque Novo Mundo, São...</td>\n",
       "      <td>80.0</td>\n",
       "      <td>3.0</td>\n",
       "      <td>1180</td>\n",
       "    </tr>\n",
       "    <tr>\n",
       "      <th>4</th>\n",
       "      <td>norte</td>\n",
       "      <td>Parque Domingos Luís, Jardim São Paulo, São Pa...</td>\n",
       "      <td>70.0</td>\n",
       "      <td>2.0</td>\n",
       "      <td>1300</td>\n",
       "    </tr>\n",
       "  </tbody>\n",
       "</table>\n",
       "</div>"
      ],
      "text/plain": [
       "    zona                                    enderecos_lista  area  quartos  \\\n",
       "0  norte  Praça Rafael Mendes De Carvalho, Jardim Paraís...  50.0      2.0   \n",
       "1  norte  Rua Almirante Noronha, Jardim São Paulo, São P...  76.0      3.0   \n",
       "2  norte  Rua Cássio De Almeida, Vila Guilherme, São Pau...  30.0      1.0   \n",
       "3  norte  Rua Cabo José Da Silva, Parque Novo Mundo, São...  80.0      3.0   \n",
       "4  norte  Parque Domingos Luís, Jardim São Paulo, São Pa...  70.0      2.0   \n",
       "\n",
       "   aluguel  \n",
       "0     1150  \n",
       "1     1480  \n",
       "2      800  \n",
       "3     1180  \n",
       "4     1300  "
      ]
     },
     "execution_count": 98,
     "metadata": {},
     "output_type": "execute_result"
    }
   ],
   "source": [
    "data = pd.read_csv(url)\n",
    "data.head()"
   ]
  },
  {
   "cell_type": "code",
   "execution_count": 99,
   "metadata": {},
   "outputs": [
    {
     "data": {
      "text/html": [
       "<div>\n",
       "<style scoped>\n",
       "    .dataframe tbody tr th:only-of-type {\n",
       "        vertical-align: middle;\n",
       "    }\n",
       "\n",
       "    .dataframe tbody tr th {\n",
       "        vertical-align: top;\n",
       "    }\n",
       "\n",
       "    .dataframe thead th {\n",
       "        text-align: right;\n",
       "    }\n",
       "</style>\n",
       "<table border=\"1\" class=\"dataframe\">\n",
       "  <thead>\n",
       "    <tr style=\"text-align: right;\">\n",
       "      <th></th>\n",
       "      <th>count</th>\n",
       "      <th>mean</th>\n",
       "      <th>std</th>\n",
       "      <th>min</th>\n",
       "      <th>25%</th>\n",
       "      <th>50%</th>\n",
       "      <th>75%</th>\n",
       "      <th>max</th>\n",
       "    </tr>\n",
       "  </thead>\n",
       "  <tbody>\n",
       "    <tr>\n",
       "      <th>area</th>\n",
       "      <td>1341.0</td>\n",
       "      <td>112.697987</td>\n",
       "      <td>259.503149</td>\n",
       "      <td>1.0</td>\n",
       "      <td>48.0</td>\n",
       "      <td>67.0</td>\n",
       "      <td>106.0</td>\n",
       "      <td>7800.0</td>\n",
       "    </tr>\n",
       "    <tr>\n",
       "      <th>quartos</th>\n",
       "      <td>1273.0</td>\n",
       "      <td>2.106834</td>\n",
       "      <td>0.882869</td>\n",
       "      <td>1.0</td>\n",
       "      <td>1.0</td>\n",
       "      <td>2.0</td>\n",
       "      <td>3.0</td>\n",
       "      <td>5.0</td>\n",
       "    </tr>\n",
       "    <tr>\n",
       "      <th>aluguel</th>\n",
       "      <td>1344.0</td>\n",
       "      <td>4396.404762</td>\n",
       "      <td>29225.842756</td>\n",
       "      <td>299.0</td>\n",
       "      <td>1500.0</td>\n",
       "      <td>2200.0</td>\n",
       "      <td>3577.5</td>\n",
       "      <td>870000.0</td>\n",
       "    </tr>\n",
       "  </tbody>\n",
       "</table>\n",
       "</div>"
      ],
      "text/plain": [
       "          count         mean           std    min     25%     50%     75%  \\\n",
       "area     1341.0   112.697987    259.503149    1.0    48.0    67.0   106.0   \n",
       "quartos  1273.0     2.106834      0.882869    1.0     1.0     2.0     3.0   \n",
       "aluguel  1344.0  4396.404762  29225.842756  299.0  1500.0  2200.0  3577.5   \n",
       "\n",
       "              max  \n",
       "area       7800.0  \n",
       "quartos       5.0  \n",
       "aluguel  870000.0  "
      ]
     },
     "execution_count": 99,
     "metadata": {},
     "output_type": "execute_result"
    }
   ],
   "source": [
    "data.describe().T"
   ]
  },
  {
   "cell_type": "code",
   "execution_count": 100,
   "metadata": {},
   "outputs": [
    {
     "name": "stdout",
     "output_type": "stream",
     "text": [
      "<class 'pandas.core.frame.DataFrame'>\n",
      "RangeIndex: 1344 entries, 0 to 1343\n",
      "Data columns (total 5 columns):\n",
      " #   Column           Non-Null Count  Dtype  \n",
      "---  ------           --------------  -----  \n",
      " 0   zona             1344 non-null   object \n",
      " 1   enderecos_lista  1344 non-null   object \n",
      " 2   area             1341 non-null   float64\n",
      " 3   quartos          1273 non-null   float64\n",
      " 4   aluguel          1344 non-null   int64  \n",
      "dtypes: float64(2), int64(1), object(2)\n",
      "memory usage: 52.6+ KB\n"
     ]
    }
   ],
   "source": [
    "data.info()"
   ]
  },
  {
   "cell_type": "code",
   "execution_count": 101,
   "metadata": {},
   "outputs": [],
   "source": [
    "from sklearn.model_selection import train_test_split"
   ]
  },
  {
   "cell_type": "code",
   "execution_count": 102,
   "metadata": {},
   "outputs": [],
   "source": [
    "train, test = train_test_split(data, test_size=0.25, random_state=123, stratify=data['zona'])"
   ]
  },
  {
   "cell_type": "code",
   "execution_count": 103,
   "metadata": {},
   "outputs": [
    {
     "name": "stdout",
     "output_type": "stream",
     "text": [
      "<class 'pandas.core.frame.DataFrame'>\n",
      "Int64Index: 1008 entries, 221 to 904\n",
      "Data columns (total 5 columns):\n",
      " #   Column           Non-Null Count  Dtype  \n",
      "---  ------           --------------  -----  \n",
      " 0   zona             1008 non-null   object \n",
      " 1   enderecos_lista  1008 non-null   object \n",
      " 2   area             1005 non-null   float64\n",
      " 3   quartos          948 non-null    float64\n",
      " 4   aluguel          1008 non-null   int64  \n",
      "dtypes: float64(2), int64(1), object(2)\n",
      "memory usage: 47.2+ KB\n"
     ]
    }
   ],
   "source": [
    "train.info()"
   ]
  },
  {
   "cell_type": "code",
   "execution_count": 104,
   "metadata": {},
   "outputs": [
    {
     "data": {
      "text/plain": [
       "norte    252\n",
       "leste    252\n",
       "oeste    252\n",
       "sul      252\n",
       "Name: zona, dtype: int64"
      ]
     },
     "execution_count": 104,
     "metadata": {},
     "output_type": "execute_result"
    }
   ],
   "source": [
    "train['zona'].value_counts()"
   ]
  },
  {
   "cell_type": "code",
   "execution_count": 105,
   "metadata": {},
   "outputs": [
    {
     "name": "stdout",
     "output_type": "stream",
     "text": [
      "<class 'pandas.core.frame.DataFrame'>\n",
      "Int64Index: 336 entries, 419 to 1159\n",
      "Data columns (total 5 columns):\n",
      " #   Column           Non-Null Count  Dtype  \n",
      "---  ------           --------------  -----  \n",
      " 0   zona             336 non-null    object \n",
      " 1   enderecos_lista  336 non-null    object \n",
      " 2   area             336 non-null    float64\n",
      " 3   quartos          325 non-null    float64\n",
      " 4   aluguel          336 non-null    int64  \n",
      "dtypes: float64(2), int64(1), object(2)\n",
      "memory usage: 15.8+ KB\n"
     ]
    }
   ],
   "source": [
    "test.info()"
   ]
  },
  {
   "cell_type": "code",
   "execution_count": 106,
   "metadata": {},
   "outputs": [
    {
     "data": {
      "text/plain": [
       "oeste    84\n",
       "norte    84\n",
       "leste    84\n",
       "sul      84\n",
       "Name: zona, dtype: int64"
      ]
     },
     "execution_count": 106,
     "metadata": {},
     "output_type": "execute_result"
    }
   ],
   "source": [
    "test['zona'].value_counts()"
   ]
  },
  {
   "cell_type": "code",
   "execution_count": 107,
   "metadata": {},
   "outputs": [
    {
     "data": {
      "text/html": [
       "<div>\n",
       "<style scoped>\n",
       "    .dataframe tbody tr th:only-of-type {\n",
       "        vertical-align: middle;\n",
       "    }\n",
       "\n",
       "    .dataframe tbody tr th {\n",
       "        vertical-align: top;\n",
       "    }\n",
       "\n",
       "    .dataframe thead th {\n",
       "        text-align: right;\n",
       "    }\n",
       "</style>\n",
       "<table border=\"1\" class=\"dataframe\">\n",
       "  <thead>\n",
       "    <tr style=\"text-align: right;\">\n",
       "      <th></th>\n",
       "      <th>zona</th>\n",
       "      <th>enderecos_lista</th>\n",
       "      <th>area</th>\n",
       "      <th>quartos</th>\n",
       "      <th>aluguel</th>\n",
       "    </tr>\n",
       "  </thead>\n",
       "  <tbody>\n",
       "    <tr>\n",
       "      <th>419</th>\n",
       "      <td>sul</td>\n",
       "      <td>Rua Abagiba, Saúde, São Paulo Zona Sul, São Paulo</td>\n",
       "      <td>52.0</td>\n",
       "      <td>2.0</td>\n",
       "      <td>2020</td>\n",
       "    </tr>\n",
       "    <tr>\n",
       "      <th>366</th>\n",
       "      <td>sul</td>\n",
       "      <td>Rua Francisco José Da Silva, Vila Andrade, São...</td>\n",
       "      <td>40.0</td>\n",
       "      <td>1.0</td>\n",
       "      <td>1502</td>\n",
       "    </tr>\n",
       "    <tr>\n",
       "      <th>618</th>\n",
       "      <td>sul</td>\n",
       "      <td>Rua Maracá, Vila Guarani (z Sul), São Paulo Zo...</td>\n",
       "      <td>47.0</td>\n",
       "      <td>2.0</td>\n",
       "      <td>1610</td>\n",
       "    </tr>\n",
       "    <tr>\n",
       "      <th>653</th>\n",
       "      <td>sul</td>\n",
       "      <td>Avenida Barão De Campos Gerais, Real Parque, S...</td>\n",
       "      <td>115.0</td>\n",
       "      <td>3.0</td>\n",
       "      <td>3000</td>\n",
       "    </tr>\n",
       "    <tr>\n",
       "      <th>248</th>\n",
       "      <td>norte</td>\n",
       "      <td>Rua Voluntários Da Pátria, Santana, São Paulo ...</td>\n",
       "      <td>40.0</td>\n",
       "      <td>1.0</td>\n",
       "      <td>2500</td>\n",
       "    </tr>\n",
       "  </tbody>\n",
       "</table>\n",
       "</div>"
      ],
      "text/plain": [
       "      zona                                    enderecos_lista   area  quartos  \\\n",
       "419    sul  Rua Abagiba, Saúde, São Paulo Zona Sul, São Paulo   52.0      2.0   \n",
       "366    sul  Rua Francisco José Da Silva, Vila Andrade, São...   40.0      1.0   \n",
       "618    sul  Rua Maracá, Vila Guarani (z Sul), São Paulo Zo...   47.0      2.0   \n",
       "653    sul  Avenida Barão De Campos Gerais, Real Parque, S...  115.0      3.0   \n",
       "248  norte  Rua Voluntários Da Pátria, Santana, São Paulo ...   40.0      1.0   \n",
       "\n",
       "     aluguel  \n",
       "419     2020  \n",
       "366     1502  \n",
       "618     1610  \n",
       "653     3000  \n",
       "248     2500  "
      ]
     },
     "execution_count": 107,
     "metadata": {},
     "output_type": "execute_result"
    }
   ],
   "source": [
    "test.head()"
   ]
  },
  {
   "cell_type": "code",
   "execution_count": 108,
   "metadata": {},
   "outputs": [
    {
     "data": {
      "text/plain": [
       "<seaborn.axisgrid.PairGrid at 0x15af56ffe20>"
      ]
     },
     "execution_count": 108,
     "metadata": {},
     "output_type": "execute_result"
    },
    {
     "data": {
      "image/png": "[encoded data removed]",
      "text/plain": [
       "<Figure size 540x540 with 12 Axes>"
      ]
     },
     "metadata": {
      "needs_background": "light"
     },
     "output_type": "display_data"
    }
   ],
   "source": [
    "sns.pairplot(train, kind='reg')"
   ]
  },
  {
   "cell_type": "code",
   "execution_count": 109,
   "metadata": {},
   "outputs": [],
   "source": [
    "train['aluguel']=train['aluguel'].apply(np.log1p)\n",
    "train['area']=train['area'].apply(np.log1p)"
   ]
  },
  {
   "cell_type": "code",
   "execution_count": 110,
   "metadata": {},
   "outputs": [],
   "source": [
    "test['aluguel']=test['aluguel'].apply(np.log1p)\n",
    "test['area']=test['area'].apply(np.log1p)"
   ]
  },
  {
   "cell_type": "code",
   "execution_count": 111,
   "metadata": {},
   "outputs": [
    {
     "data": {
      "text/plain": [
       "<seaborn.axisgrid.PairGrid at 0x15af94e96a0>"
      ]
     },
     "execution_count": 111,
     "metadata": {},
     "output_type": "execute_result"
    },
    {
     "data": {
      "image/png": "[encoded data removed]",
      "text/plain": [
       "<Figure size 540x540 with 12 Axes>"
      ]
     },
     "metadata": {
      "needs_background": "light"
     },
     "output_type": "display_data"
    }
   ],
   "source": [
    "sns.pairplot(train, kind='reg')"
   ]
  },
  {
   "cell_type": "code",
   "execution_count": 112,
   "metadata": {},
   "outputs": [],
   "source": [
    "X_cols = ['zona', 'area', 'quartos']\n",
    "y_col = ['aluguel']"
   ]
  },
  {
   "cell_type": "code",
   "execution_count": 113,
   "metadata": {},
   "outputs": [],
   "source": [
    "X_train = train[X_cols]\n",
    "X_test = test[X_cols]\n",
    "y_train = train[y_col]\n",
    "y_test = test[y_col]"
   ]
  },
  {
   "cell_type": "code",
   "execution_count": 114,
   "metadata": {},
   "outputs": [
    {
     "data": {
      "text/html": [
       "<div>\n",
       "<style scoped>\n",
       "    .dataframe tbody tr th:only-of-type {\n",
       "        vertical-align: middle;\n",
       "    }\n",
       "\n",
       "    .dataframe tbody tr th {\n",
       "        vertical-align: top;\n",
       "    }\n",
       "\n",
       "    .dataframe thead th {\n",
       "        text-align: right;\n",
       "    }\n",
       "</style>\n",
       "<table border=\"1\" class=\"dataframe\">\n",
       "  <thead>\n",
       "    <tr style=\"text-align: right;\">\n",
       "      <th></th>\n",
       "      <th>zona</th>\n",
       "      <th>area</th>\n",
       "      <th>quartos</th>\n",
       "    </tr>\n",
       "  </thead>\n",
       "  <tbody>\n",
       "    <tr>\n",
       "      <th>221</th>\n",
       "      <td>norte</td>\n",
       "      <td>4.007333</td>\n",
       "      <td>2.0</td>\n",
       "    </tr>\n",
       "    <tr>\n",
       "      <th>956</th>\n",
       "      <td>leste</td>\n",
       "      <td>4.406719</td>\n",
       "      <td>3.0</td>\n",
       "    </tr>\n",
       "    <tr>\n",
       "      <th>721</th>\n",
       "      <td>leste</td>\n",
       "      <td>4.454347</td>\n",
       "      <td>2.0</td>\n",
       "    </tr>\n",
       "    <tr>\n",
       "      <th>604</th>\n",
       "      <td>sul</td>\n",
       "      <td>4.369448</td>\n",
       "      <td>3.0</td>\n",
       "    </tr>\n",
       "    <tr>\n",
       "      <th>119</th>\n",
       "      <td>norte</td>\n",
       "      <td>4.875197</td>\n",
       "      <td>NaN</td>\n",
       "    </tr>\n",
       "  </tbody>\n",
       "</table>\n",
       "</div>"
      ],
      "text/plain": [
       "      zona      area  quartos\n",
       "221  norte  4.007333      2.0\n",
       "956  leste  4.406719      3.0\n",
       "721  leste  4.454347      2.0\n",
       "604    sul  4.369448      3.0\n",
       "119  norte  4.875197      NaN"
      ]
     },
     "execution_count": 114,
     "metadata": {},
     "output_type": "execute_result"
    }
   ],
   "source": [
    "X_train.head()"
   ]
  },
  {
   "cell_type": "code",
   "execution_count": 115,
   "metadata": {},
   "outputs": [],
   "source": [
    "# Tratar colunas categoricas\n",
    "X_train = pd.get_dummies(X_train)\n",
    "X_test = pd.get_dummies(X_test)"
   ]
  },
  {
   "cell_type": "code",
   "execution_count": 116,
   "metadata": {},
   "outputs": [
    {
     "data": {
      "text/html": [
       "<div>\n",
       "<style scoped>\n",
       "    .dataframe tbody tr th:only-of-type {\n",
       "        vertical-align: middle;\n",
       "    }\n",
       "\n",
       "    .dataframe tbody tr th {\n",
       "        vertical-align: top;\n",
       "    }\n",
       "\n",
       "    .dataframe thead th {\n",
       "        text-align: right;\n",
       "    }\n",
       "</style>\n",
       "<table border=\"1\" class=\"dataframe\">\n",
       "  <thead>\n",
       "    <tr style=\"text-align: right;\">\n",
       "      <th></th>\n",
       "      <th>area</th>\n",
       "      <th>quartos</th>\n",
       "      <th>zona_leste</th>\n",
       "      <th>zona_norte</th>\n",
       "      <th>zona_oeste</th>\n",
       "      <th>zona_sul</th>\n",
       "    </tr>\n",
       "  </thead>\n",
       "  <tbody>\n",
       "    <tr>\n",
       "      <th>221</th>\n",
       "      <td>4.007333</td>\n",
       "      <td>2.0</td>\n",
       "      <td>0</td>\n",
       "      <td>1</td>\n",
       "      <td>0</td>\n",
       "      <td>0</td>\n",
       "    </tr>\n",
       "    <tr>\n",
       "      <th>956</th>\n",
       "      <td>4.406719</td>\n",
       "      <td>3.0</td>\n",
       "      <td>1</td>\n",
       "      <td>0</td>\n",
       "      <td>0</td>\n",
       "      <td>0</td>\n",
       "    </tr>\n",
       "    <tr>\n",
       "      <th>721</th>\n",
       "      <td>4.454347</td>\n",
       "      <td>2.0</td>\n",
       "      <td>1</td>\n",
       "      <td>0</td>\n",
       "      <td>0</td>\n",
       "      <td>0</td>\n",
       "    </tr>\n",
       "    <tr>\n",
       "      <th>604</th>\n",
       "      <td>4.369448</td>\n",
       "      <td>3.0</td>\n",
       "      <td>0</td>\n",
       "      <td>0</td>\n",
       "      <td>0</td>\n",
       "      <td>1</td>\n",
       "    </tr>\n",
       "    <tr>\n",
       "      <th>119</th>\n",
       "      <td>4.875197</td>\n",
       "      <td>NaN</td>\n",
       "      <td>0</td>\n",
       "      <td>1</td>\n",
       "      <td>0</td>\n",
       "      <td>0</td>\n",
       "    </tr>\n",
       "  </tbody>\n",
       "</table>\n",
       "</div>"
      ],
      "text/plain": [
       "         area  quartos  zona_leste  zona_norte  zona_oeste  zona_sul\n",
       "221  4.007333      2.0           0           1           0         0\n",
       "956  4.406719      3.0           1           0           0         0\n",
       "721  4.454347      2.0           1           0           0         0\n",
       "604  4.369448      3.0           0           0           0         1\n",
       "119  4.875197      NaN           0           1           0         0"
      ]
     },
     "execution_count": 116,
     "metadata": {},
     "output_type": "execute_result"
    }
   ],
   "source": [
    "X_train.head()"
   ]
  },
  {
   "cell_type": "code",
   "execution_count": 117,
   "metadata": {},
   "outputs": [],
   "source": [
    "# Tratar valores ausente\n",
    "# Importante: Usar informações do conjunto de treino\n",
    "train_medians = X_train.median()\n",
    "X_train=X_train.fillna(train_medians)\n",
    "X_test=X_test.fillna(train_medians)"
   ]
  },
  {
   "cell_type": "code",
   "execution_count": 118,
   "metadata": {},
   "outputs": [
    {
     "data": {
      "text/html": [
       "<div>\n",
       "<style scoped>\n",
       "    .dataframe tbody tr th:only-of-type {\n",
       "        vertical-align: middle;\n",
       "    }\n",
       "\n",
       "    .dataframe tbody tr th {\n",
       "        vertical-align: top;\n",
       "    }\n",
       "\n",
       "    .dataframe thead th {\n",
       "        text-align: right;\n",
       "    }\n",
       "</style>\n",
       "<table border=\"1\" class=\"dataframe\">\n",
       "  <thead>\n",
       "    <tr style=\"text-align: right;\">\n",
       "      <th></th>\n",
       "      <th>area</th>\n",
       "      <th>quartos</th>\n",
       "      <th>zona_leste</th>\n",
       "      <th>zona_norte</th>\n",
       "      <th>zona_oeste</th>\n",
       "      <th>zona_sul</th>\n",
       "    </tr>\n",
       "  </thead>\n",
       "  <tbody>\n",
       "    <tr>\n",
       "      <th>221</th>\n",
       "      <td>4.007333</td>\n",
       "      <td>2.0</td>\n",
       "      <td>0</td>\n",
       "      <td>1</td>\n",
       "      <td>0</td>\n",
       "      <td>0</td>\n",
       "    </tr>\n",
       "    <tr>\n",
       "      <th>956</th>\n",
       "      <td>4.406719</td>\n",
       "      <td>3.0</td>\n",
       "      <td>1</td>\n",
       "      <td>0</td>\n",
       "      <td>0</td>\n",
       "      <td>0</td>\n",
       "    </tr>\n",
       "    <tr>\n",
       "      <th>721</th>\n",
       "      <td>4.454347</td>\n",
       "      <td>2.0</td>\n",
       "      <td>1</td>\n",
       "      <td>0</td>\n",
       "      <td>0</td>\n",
       "      <td>0</td>\n",
       "    </tr>\n",
       "    <tr>\n",
       "      <th>604</th>\n",
       "      <td>4.369448</td>\n",
       "      <td>3.0</td>\n",
       "      <td>0</td>\n",
       "      <td>0</td>\n",
       "      <td>0</td>\n",
       "      <td>1</td>\n",
       "    </tr>\n",
       "    <tr>\n",
       "      <th>119</th>\n",
       "      <td>4.875197</td>\n",
       "      <td>2.0</td>\n",
       "      <td>0</td>\n",
       "      <td>1</td>\n",
       "      <td>0</td>\n",
       "      <td>0</td>\n",
       "    </tr>\n",
       "  </tbody>\n",
       "</table>\n",
       "</div>"
      ],
      "text/plain": [
       "         area  quartos  zona_leste  zona_norte  zona_oeste  zona_sul\n",
       "221  4.007333      2.0           0           1           0         0\n",
       "956  4.406719      3.0           1           0           0         0\n",
       "721  4.454347      2.0           1           0           0         0\n",
       "604  4.369448      3.0           0           0           0         1\n",
       "119  4.875197      2.0           0           1           0         0"
      ]
     },
     "execution_count": 118,
     "metadata": {},
     "output_type": "execute_result"
    }
   ],
   "source": [
    "X_train.head()"
   ]
  },
  {
   "cell_type": "markdown",
   "metadata": {},
   "source": [
    "**2. Machine Learning**"
   ]
  },
  {
   "cell_type": "code",
   "execution_count": 119,
   "metadata": {},
   "outputs": [
    {
     "data": {
      "text/plain": [
       "KNeighborsRegressor()"
      ]
     },
     "execution_count": 119,
     "metadata": {},
     "output_type": "execute_result"
    }
   ],
   "source": [
    "from sklearn.neighbors import KNeighborsRegressor\n",
    "neigh = KNeighborsRegressor()\n",
    "neigh.fit(X_train, y_train)"
   ]
  },
  {
   "cell_type": "code",
   "execution_count": 120,
   "metadata": {},
   "outputs": [],
   "source": [
    "y_pred = neigh.predict(X_test)"
   ]
  },
  {
   "cell_type": "code",
   "execution_count": 121,
   "metadata": {},
   "outputs": [
    {
     "data": {
      "text/plain": [
       "0.4736086843481374"
      ]
     },
     "execution_count": 121,
     "metadata": {},
     "output_type": "execute_result"
    }
   ],
   "source": [
    "# Root Mean Squared Error\n",
    "np.sqrt(np.mean((y_pred-y_test.values)**2))"
   ]
  },
  {
   "cell_type": "code",
   "execution_count": 122,
   "metadata": {},
   "outputs": [
    {
     "data": {
      "text/plain": [
       "0.22430518588997367"
      ]
     },
     "execution_count": 122,
     "metadata": {},
     "output_type": "execute_result"
    }
   ],
   "source": [
    "# Mean Squared Error\n",
    "np.mean((y_pred-y_test.values)**2)"
   ]
  },
  {
   "cell_type": "code",
   "execution_count": 123,
   "metadata": {},
   "outputs": [
    {
     "data": {
      "text/plain": [
       "0.36167420588292315"
      ]
     },
     "execution_count": 123,
     "metadata": {},
     "output_type": "execute_result"
    }
   ],
   "source": [
    "# Mean Absolute Error\n",
    "np.mean(np.abs(y_pred-y_test.values))"
   ]
  },
  {
   "cell_type": "code",
   "execution_count": 124,
   "metadata": {},
   "outputs": [
    {
     "data": {
      "text/plain": [
       "0.5161897704625475"
      ]
     },
     "execution_count": 124,
     "metadata": {},
     "output_type": "execute_result"
    }
   ],
   "source": [
    "# R2 Score\n",
    "from sklearn.metrics import r2_score\n",
    "r2_score(y_test, y_pred)"
   ]
  },
  {
   "cell_type": "markdown",
   "metadata": {},
   "source": [
    "**3. Triagem com Outros Modelos**"
   ]
  },
  {
   "cell_type": "code",
   "execution_count": 128,
   "metadata": {},
   "outputs": [
    {
     "data": {
      "text/plain": [
       "0.608198296027433"
      ]
     },
     "execution_count": 128,
     "metadata": {},
     "output_type": "execute_result"
    }
   ],
   "source": [
    "from sklearn.linear_model import LinearRegression\n",
    "reg = LinearRegression()\n",
    "reg.fit(X_train, y_train)\n",
    "\n",
    "reg.score(X_test, y_test)"
   ]
  },
  {
   "cell_type": "code",
   "execution_count": 129,
   "metadata": {},
   "outputs": [
    {
     "name": "stdout",
     "output_type": "stream",
     "text": [
      "Treinando DecisionTreeRegressor\n",
      "Train score 0.8733718770209121\n",
      "Test score 0.19173397097448375\n",
      "================================================================================\n",
      "Treinando RandomForestRegressor\n",
      "Train score 0.8289831999922137\n",
      "Test score 0.43848782632573957\n",
      "================================================================================\n",
      "Treinando MLPRegressor\n",
      "Train score 0.5352591616667083\n",
      "Test score 0.6136454420099193\n",
      "================================================================================\n",
      "Treinando XGBRegressor\n",
      "Train score 0.855990087811\n",
      "Test score 0.2178261615510081\n",
      "================================================================================\n"
     ]
    }
   ],
   "source": [
    "from sklearn.tree import DecisionTreeRegressor\n",
    "from sklearn.ensemble import RandomForestRegressor\n",
    "from sklearn.neural_network import MLPRegressor\n",
    "from xgboost import XGBRegressor\n",
    "\n",
    "\n",
    "regressor_list = [DecisionTreeRegressor(),\n",
    "                  RandomForestRegressor(),\n",
    "                  MLPRegressor(),\n",
    "                  XGBRegressor(),\n",
    "                  ]\n",
    "\n",
    "\n",
    "for reg in regressor_list:\n",
    "  print('Treinando', reg.__class__.__name__)\n",
    "  reg.fit(X_train, y_train)\n",
    "  train_score = reg.score(X_train, y_train)\n",
    "  test_score = reg.score(X_test, y_test)\n",
    "  print('Train score', train_score)\n",
    "  print('Test score', test_score)\n",
    "  print('='*80)"
   ]
  },
  {
   "cell_type": "code",
   "execution_count": 130,
   "metadata": {},
   "outputs": [
    {
     "data": {
      "text/plain": [
       "336"
      ]
     },
     "execution_count": 130,
     "metadata": {},
     "output_type": "execute_result"
    }
   ],
   "source": [
    "len(X_train)//3"
   ]
  },
  {
   "cell_type": "code",
   "execution_count": 131,
   "metadata": {},
   "outputs": [],
   "source": [
    "X1=X_train[:336]\n",
    "X2=X_train[336:2*336]\n",
    "X3=X_train[2*336:]"
   ]
  },
  {
   "cell_type": "code",
   "execution_count": 132,
   "metadata": {},
   "outputs": [
    {
     "name": "stdout",
     "output_type": "stream",
     "text": [
      "Treinando DecisionTreeRegressor\n",
      "Train score 0.8733718770209121\n",
      "Validation score [-0.08129143  0.31735679  0.33568213]\n",
      "Test score 0.1918734807288741\n",
      "================================================================================\n",
      "Treinando RandomForestRegressor\n",
      "Train score 0.829703321211758\n",
      "Validation score [0.36204972 0.43047183 0.4330758 ]\n",
      "Test score 0.4560361210564874\n",
      "================================================================================\n",
      "Treinando MLPRegressor\n",
      "Train score 0.5379917885807335\n",
      "Validation score [0.47505026 0.54396204 0.5406591 ]\n",
      "Test score 0.6123781970859763\n",
      "================================================================================\n",
      "Treinando XGBRegressor\n",
      "Train score 0.855990087811\n",
      "Validation score [0.26031691 0.34178302 0.40928334]\n",
      "Test score 0.2178261615510081\n",
      "================================================================================\n"
     ]
    }
   ],
   "source": [
    "# Repetindo com validação cruzada\n",
    "import warnings\n",
    "warnings.filterwarnings(\"ignore\")\n",
    "from sklearn.tree import DecisionTreeRegressor\n",
    "from sklearn.ensemble import RandomForestRegressor\n",
    "from sklearn.neural_network import MLPRegressor\n",
    "from xgboost import XGBRegressor\n",
    "from sklearn.model_selection import cross_val_score\n",
    "\n",
    "regressor_list = [DecisionTreeRegressor(),\n",
    "                  RandomForestRegressor(),\n",
    "                  MLPRegressor(),\n",
    "                  XGBRegressor(),\n",
    "                  ]\n",
    "\n",
    "for reg in regressor_list:\n",
    "  print('Treinando', reg.__class__.__name__)\n",
    "  reg.fit(X_train, y_train)\n",
    "  train_score = reg.score(X_train, y_train)\n",
    "  val_score = cross_val_score(reg, X_train, y_train, cv=3)\n",
    "  test_score = reg.score(X_test, y_test)\n",
    "  print('Train score', train_score)\n",
    "  print('Validation score', val_score)\n",
    "  print('Test score', test_score)\n",
    "  print('='*80)\n"
   ]
  },
  {
   "cell_type": "code",
   "execution_count": 133,
   "metadata": {},
   "outputs": [
    {
     "data": {
      "text/plain": [
       "GridSearchCV(cv=3,\n",
       "             estimator=XGBRegressor(base_score=None, booster=None,\n",
       "                                    colsample_bylevel=None,\n",
       "                                    colsample_bynode=None,\n",
       "                                    colsample_bytree=None, gamma=None,\n",
       "                                    gpu_id=None, importance_type='gain',\n",
       "                                    interaction_constraints=None,\n",
       "                                    learning_rate=None, max_delta_step=None,\n",
       "                                    max_depth=1, min_child_weight=None,\n",
       "                                    missing=nan, monotone_constraints=None,\n",
       "                                    n_estimators=100, n_jobs=None,\n",
       "                                    num_parallel_tree=None, random_state=None,\n",
       "                                    reg_alpha=None, reg_lambda=None,\n",
       "                                    scale_pos_weight=None, subsample=None,\n",
       "                                    tree_method=None, validate_parameters=None,\n",
       "                                    verbosity=None),\n",
       "             n_jobs=-1,\n",
       "             param_grid=[{'learning_rate': [0.1, 0.2, 0.3, 0.4],\n",
       "                          'max_depth': [3, 4, 5, 6, 7, 8],\n",
       "                          'n_estimators': [50, 100, 200]}],\n",
       "             scoring='r2')"
      ]
     },
     "execution_count": 133,
     "metadata": {},
     "output_type": "execute_result"
    }
   ],
   "source": [
    "# TODO: Calibração de modelo\n",
    "from sklearn.model_selection import GridSearchCV\n",
    "parameters=[{'learning_rate':[0.1,0.2,0.3,0.4],\n",
    "             'max_depth':[3,4,5,6,7,8],\n",
    "             'n_estimators':[50, 100, 200]}]\n",
    "            \n",
    "xgb = XGBRegressor(n_estimators=100, max_depth=1)\n",
    "gs = GridSearchCV(xgb,parameters,scoring='r2',n_jobs=-1,cv=3)\n",
    "gs.fit(X_train, y_train)"
   ]
  },
  {
   "cell_type": "code",
   "execution_count": 134,
   "metadata": {},
   "outputs": [
    {
     "data": {
      "text/plain": [
       "{'learning_rate': 0.1, 'max_depth': 3, 'n_estimators': 50}"
      ]
     },
     "execution_count": 134,
     "metadata": {},
     "output_type": "execute_result"
    }
   ],
   "source": [
    "gs.best_params_"
   ]
  },
  {
   "cell_type": "code",
   "execution_count": 135,
   "metadata": {},
   "outputs": [],
   "source": [
    "reg = gs.best_estimator_"
   ]
  },
  {
   "cell_type": "code",
   "execution_count": 136,
   "metadata": {},
   "outputs": [
    {
     "name": "stdout",
     "output_type": "stream",
     "text": [
      "Train score 0.5789568895873305\n",
      "Validation score [0.49927174 0.5198924  0.50999349]\n",
      "Test score 0.6060030250456334\n"
     ]
    }
   ],
   "source": [
    "train_score = reg.score(X_train, y_train)\n",
    "val_score = cross_val_score(reg, X_train, y_train, cv=3)\n",
    "test_score = reg.score(X_test, y_test)\n",
    "print('Train score', train_score)\n",
    "print('Validation score', val_score)\n",
    "print('Test score', test_score)"
   ]
  },
  {
   "cell_type": "code",
   "execution_count": 137,
   "metadata": {},
   "outputs": [],
   "source": [
    "import pickle\n",
    "# now you can save it to a file\n",
    "with open('xgboost_regression.pkl', 'wb') as f:\n",
    "    pickle.dump(reg, f)\n",
    "\n",
    "## and later you can load it\n",
    "#with open('filename.pkl', 'rb') as f:\n",
    "#    clf = pickle.load(f)"
   ]
  },
  {
   "cell_type": "markdown",
   "metadata": {},
   "source": [
    "**Testando todos os regressores de sklearn**"
   ]
  },
  {
   "cell_type": "code",
   "execution_count": 138,
   "metadata": {},
   "outputs": [
    {
     "name": "stdout",
     "output_type": "stream",
     "text": [
      "Appending ARDRegression\n",
      "Appending AdaBoostRegressor\n",
      "Appending BaggingRegressor\n",
      "Appending BayesianRidge\n",
      "Appending CCA\n",
      "Appending DecisionTreeRegressor\n",
      "Appending DummyRegressor\n",
      "Appending ElasticNet\n",
      "Appending ElasticNetCV\n",
      "Appending ExtraTreeRegressor\n",
      "Appending ExtraTreesRegressor\n",
      "Appending GammaRegressor\n",
      "Appending GaussianProcessRegressor\n",
      "Appending GradientBoostingRegressor\n",
      "Appending HistGradientBoostingRegressor\n",
      "Appending HuberRegressor\n",
      "Appending IsotonicRegression\n",
      "Appending KNeighborsRegressor\n",
      "Appending KernelRidge\n",
      "Appending Lars\n",
      "Appending LarsCV\n",
      "Appending Lasso\n",
      "Appending LassoCV\n",
      "Appending LassoLars\n",
      "Appending LassoLarsCV\n",
      "Appending LassoLarsIC\n",
      "Appending LinearRegression\n",
      "Appending LinearSVR\n",
      "Appending MLPRegressor\n",
      "Appending MultiOutputRegressor\n",
      "__init__() missing 1 required positional argument: 'estimator'\n",
      "Appending MultiTaskElasticNet\n",
      "Appending MultiTaskElasticNetCV\n",
      "Appending MultiTaskLasso\n",
      "Appending MultiTaskLassoCV\n",
      "Appending NuSVR\n",
      "Appending OrthogonalMatchingPursuit\n",
      "Appending OrthogonalMatchingPursuitCV\n",
      "Appending PLSCanonical\n",
      "Appending PLSRegression\n",
      "Appending PassiveAggressiveRegressor\n",
      "Appending PoissonRegressor\n",
      "Appending RANSACRegressor\n",
      "Appending RadiusNeighborsRegressor\n",
      "Appending RandomForestRegressor\n",
      "Appending RegressorChain\n",
      "__init__() missing 1 required positional argument: 'base_estimator'\n",
      "Appending Ridge\n",
      "Appending RidgeCV\n",
      "Appending SGDRegressor\n",
      "Appending SVR\n",
      "Appending StackingRegressor\n",
      "__init__() missing 1 required positional argument: 'estimators'\n",
      "Appending TheilSenRegressor\n",
      "Appending TransformedTargetRegressor\n",
      "Appending TweedieRegressor\n",
      "Appending VotingRegressor\n",
      "__init__() missing 1 required positional argument: 'estimators'\n"
     ]
    }
   ],
   "source": [
    "from sklearn.utils import all_estimators\n",
    "\n",
    "estimators = all_estimators(type_filter='regressor')\n",
    "\n",
    "all_regs = []\n",
    "for name, RegressorClass in estimators:\n",
    "    try:\n",
    "        print('Appending', name)\n",
    "        reg = RegressorClass()\n",
    "        all_regs.append(reg)\n",
    "    except Exception as e:\n",
    "        print(e)"
   ]
  },
  {
   "cell_type": "code",
   "execution_count": 139,
   "metadata": {},
   "outputs": [
    {
     "name": "stdout",
     "output_type": "stream",
     "text": [
      "Treinando ARDRegression\n",
      "Train score 0.5352118136732753\n",
      "Validation score [0.49442644 0.55090771 0.53209802]\n",
      "Test score 0.6090776818779764\n",
      "================================================================================\n",
      "Treinando AdaBoostRegressor\n",
      "Train score 0.556470057919171\n",
      "Validation score [0.41246289 0.40944142 0.47909385]\n",
      "Test score 0.3863935358462227\n",
      "================================================================================\n",
      "Treinando BaggingRegressor\n",
      "Train score 0.8174543520961679\n",
      "Validation score [0.24426642 0.38980959 0.39996308]\n",
      "Test score 0.42260383581418404\n",
      "================================================================================\n",
      "Treinando BayesianRidge\n",
      "Train score 0.5356922527589508\n",
      "Validation score [0.49466432 0.55075339 0.5309406 ]\n",
      "Test score 0.6083168791197097\n",
      "================================================================================\n",
      "Treinando CCA\n",
      "Train score 0.46493303472989855\n",
      "Validation score [0.40594575 0.45094989 0.49658903]\n",
      "Test score 0.5230467772572778\n",
      "================================================================================\n",
      "Treinando DecisionTreeRegressor\n",
      "Train score 0.8733718770209121\n",
      "Validation score [-0.070718    0.29151561  0.33113662]\n",
      "Test score 0.18805921978625106\n",
      "================================================================================\n",
      "Treinando DummyRegressor\n",
      "Train score 0.0\n",
      "Validation score [-5.22923725e-05 -1.94718974e-02 -1.21164358e-02]\n",
      "Test score -0.00010035088108661938\n",
      "================================================================================\n",
      "Treinando ElasticNet\n",
      "Train score 0.0\n",
      "Validation score [-5.22923725e-05 -1.94718974e-02 -1.21164358e-02]\n",
      "Test score -0.00010035088108661938\n",
      "================================================================================\n",
      "Treinando ElasticNetCV\n",
      "Train score 0.5356978103134324\n",
      "Validation score [0.4941423  0.55098712 0.52995402]\n",
      "Test score 0.6084178552903691\n",
      "================================================================================\n",
      "Treinando ExtraTreeRegressor\n",
      "Train score 0.8733718770209121\n",
      "Validation score [-0.04491477  0.25342068  0.20743008]\n",
      "Test score 0.18780683371422513\n",
      "================================================================================\n",
      "Treinando ExtraTreesRegressor\n",
      "Train score 0.8733718770209121\n",
      "Validation score [0.38612173 0.34242357 0.36910804]\n",
      "Test score 0.15076866693840962\n",
      "================================================================================\n",
      "Treinando GammaRegressor\n",
      "Unable to coerce to Series, length must be 1: given 1008\n",
      "Treinando GaussianProcessRegressor\n",
      "Train score 0.6221354141342885\n",
      "Validation score [-506828.52020062  -58314.62749231  -12260.82102105]\n",
      "Test score -368602.96439564833\n",
      "================================================================================\n",
      "Treinando GradientBoostingRegressor\n",
      "Train score 0.6321594883072461\n",
      "Validation score [0.45961994 0.44142656 0.49643253]\n",
      "Test score 0.6023612937154426\n",
      "================================================================================\n",
      "Treinando HistGradientBoostingRegressor\n",
      "Train score 0.6860462342164284\n",
      "Validation score [0.48246103 0.48776531 0.49074402]\n",
      "Test score 0.5596861514147202\n",
      "================================================================================\n",
      "Treinando HuberRegressor\n",
      "Train score 0.5333775451549918\n",
      "Validation score [0.49166923 0.55637758 0.53318681]\n",
      "Test score 0.6078831969314809\n",
      "================================================================================\n",
      "Treinando IsotonicRegression\n",
      "X should be a 1d array\n",
      "Treinando KNeighborsRegressor\n",
      "Train score 0.6316348990548883\n",
      "Validation score [0.45921448 0.41128453 0.41721715]\n",
      "Test score 0.5161897704625475\n",
      "================================================================================\n",
      "Treinando KernelRidge\n",
      "Train score 0.5170836224324878\n",
      "Validation score [0.4230364  0.52688614 0.5239205 ]\n",
      "Test score 0.5946047883996428\n",
      "================================================================================\n",
      "Treinando Lars\n",
      "Train score 0.48958106506931165\n",
      "Validation score [0.49429904 0.55021975 0.53178426]\n",
      "Test score 0.5751332994920104\n",
      "================================================================================\n",
      "Treinando LarsCV\n",
      "Train score 0.48368669159603983\n",
      "Validation score [0.49429904 0.55021975 0.52736705]\n",
      "Test score 0.5698453030061607\n",
      "================================================================================\n",
      "Treinando Lasso\n",
      "Train score 0.0\n",
      "Validation score [-5.22923725e-05 -1.94718974e-02 -1.21164358e-02]\n",
      "Test score -0.00010035088108661938\n",
      "================================================================================\n",
      "Treinando LassoCV\n",
      "Train score 0.5357015848398553\n",
      "Validation score [0.49392979 0.55054831 0.53002668]\n",
      "Test score 0.6083987605523529\n",
      "================================================================================\n",
      "Treinando LassoLars\n",
      "Train score 0.0\n",
      "Validation score [-5.22923725e-05 -1.94718974e-02 -1.21164358e-02]\n",
      "Test score -0.00010035088108661938\n",
      "================================================================================\n",
      "Treinando LassoLarsCV\n",
      "Train score 0.48368669159603983\n",
      "Validation score [0.49429904 0.55021975 0.52736705]\n",
      "Test score 0.5698453030061607\n",
      "================================================================================\n",
      "Treinando LassoLarsIC\n",
      "Train score 0.48958106506931165\n",
      "Validation score [0.49372812 0.55224127 0.53112889]\n",
      "Test score 0.5751332994920104\n",
      "================================================================================\n",
      "Treinando LinearRegression\n",
      "Train score 0.5357075981860853\n",
      "Validation score [0.49429904 0.55021975 0.53178426]\n",
      "Test score 0.608198296027433\n",
      "================================================================================\n",
      "Treinando LinearSVR\n",
      "Train score 0.5272035239473996\n",
      "Validation score [0.49169816 0.55441635 0.53219159]\n",
      "Test score 0.6008689584605845\n",
      "================================================================================\n",
      "Treinando MLPRegressor\n",
      "Train score 0.5432561822663227\n",
      "Validation score [0.42715033 0.54863868 0.53820569]\n",
      "Test score 0.6124860695602867\n",
      "================================================================================\n",
      "Treinando MultiTaskElasticNet\n",
      "Train score 0.0\n",
      "Validation score [-5.22923725e-05 -1.94718974e-02 -1.21164358e-02]\n",
      "Test score -0.00010035088108661938\n",
      "================================================================================\n",
      "Treinando MultiTaskElasticNetCV\n",
      "Train score 0.5356978103134324\n",
      "Validation score [0.4941423  0.55098712 0.52995402]\n",
      "Test score 0.6084178552903692\n",
      "================================================================================\n",
      "Treinando MultiTaskLasso\n",
      "Train score 0.0\n",
      "Validation score [-5.22923725e-05 -1.94718974e-02 -1.21164358e-02]\n",
      "Test score -0.00010035088108661938\n",
      "================================================================================\n",
      "Treinando MultiTaskLassoCV\n",
      "Train score 0.5357015848398552\n",
      "Validation score [0.49392979 0.55054831 0.53002668]\n",
      "Test score 0.6083987605523529\n",
      "================================================================================\n",
      "Treinando NuSVR\n",
      "Train score 0.5535377949371894\n",
      "Validation score [0.52673027 0.5449385  0.5326843 ]\n",
      "Test score 0.6114503035960428\n",
      "================================================================================\n",
      "Treinando OrthogonalMatchingPursuit\n",
      "Train score 0.4555595893971167\n",
      "Validation score [0.40036638 0.4887413  0.46823737]\n",
      "Test score 0.5542295757632391\n",
      "================================================================================\n",
      "Treinando OrthogonalMatchingPursuitCV\n",
      "Train score 0.5353786220141075\n",
      "Validation score [0.49429965 0.55293774 0.53140304]\n",
      "Test score 0.6068562726286303\n",
      "================================================================================\n",
      "Treinando PLSCanonical\n",
      "Train score 0.17488444487950527\n",
      "Validation score [0.11939032 0.04166495 0.27755707]\n",
      "Test score 0.14355480640633145\n",
      "================================================================================\n",
      "Treinando PLSRegression\n",
      "Train score 0.520500381786041\n",
      "Validation score [0.49170562 0.51738811 0.4982983 ]\n",
      "Test score 0.57308149757593\n",
      "================================================================================\n",
      "Treinando PassiveAggressiveRegressor\n",
      "Train score 0.4119651521768315\n",
      "Validation score [0.3942125  0.40640381 0.16448432]\n",
      "Test score 0.41958781187602434\n",
      "================================================================================\n",
      "Treinando PoissonRegressor\n",
      "Unable to coerce to Series, length must be 1: given 1008\n",
      "Treinando RANSACRegressor\n"
     ]
    },
    {
     "name": "stdout",
     "output_type": "stream",
     "text": [
      "Train score 0.47119391135123234\n",
      "Validation score [0.45262914 0.53911382 0.53188978]\n",
      "Test score 0.5430852717889935\n",
      "================================================================================\n",
      "Treinando RadiusNeighborsRegressor\n",
      "Input contains NaN, infinity or a value too large for dtype('float64').\n",
      "Treinando RandomForestRegressor\n",
      "Train score 0.8327619455436923\n",
      "Validation score [0.39140972 0.40521159 0.42563977]\n",
      "Test score 0.4450225123472509\n",
      "================================================================================\n",
      "Treinando Ridge\n",
      "Train score 0.5357033596479182\n",
      "Validation score [0.49451697 0.55049026 0.53135717]\n",
      "Test score 0.6082650812793224\n",
      "================================================================================\n",
      "Treinando RidgeCV\n",
      "Train score 0.5357033596479182\n",
      "Validation score [0.49451697 0.55049026 0.53135717]\n",
      "Test score 0.6082650812793189\n",
      "================================================================================\n",
      "Treinando SGDRegressor\n",
      "Train score 0.4935991972365199\n",
      "Validation score [0.3389435  0.50707741 0.49421551]\n",
      "Test score 0.5673491430716954\n",
      "================================================================================\n",
      "Treinando SVR\n",
      "Train score 0.5528172816544671\n",
      "Validation score [0.52325006 0.54525298 0.52804062]\n",
      "Test score 0.6008914593389263\n",
      "================================================================================\n",
      "Treinando TheilSenRegressor\n",
      "Train score 0.48579661235916904\n",
      "Validation score [0.42409014 0.5263125  0.48027905]\n",
      "Test score 0.5649082005033326\n",
      "================================================================================\n",
      "Treinando TransformedTargetRegressor\n",
      "Train score 0.5357075981860853\n",
      "Validation score [0.49429904 0.55021975 0.53178426]\n",
      "Test score 0.608198296027433\n",
      "================================================================================\n",
      "Treinando TweedieRegressor\n",
      "Unable to coerce to Series, length must be 1: given 1008\n"
     ]
    }
   ],
   "source": [
    "for reg in all_regs:\n",
    "  try:\n",
    "    print('Treinando', reg.__class__.__name__)\n",
    "    reg.fit(X_train, y_train)\n",
    "    train_score = reg.score(X_train, y_train)\n",
    "    val_score = cross_val_score(reg, X_train, y_train, cv=3)\n",
    "    test_score = reg.score(X_test, y_test)\n",
    "    print('Train score', train_score)\n",
    "    print('Validation score', val_score)\n",
    "    print('Test score', test_score)\n",
    "    print('='*80)\n",
    "  except Exception as e:\n",
    "    print(e)"
   ]
  },
  {
   "cell_type": "code",
   "execution_count": null,
   "metadata": {},
   "outputs": [],
   "source": []
  }
 ],
 "metadata": {
  "kernelspec": {
   "display_name": "Python 3",
   "language": "python",
   "name": "python3"
  },
  "language_info": {
   "codemirror_mode": {
    "name": "ipython",
    "version": 3
   },
   "file_extension": ".py",
   "mimetype": "text/x-python",
   "name": "python",
   "nbconvert_exporter": "python",
   "pygments_lexer": "ipython3",
   "version": "3.8.3"
  }
 },
 "nbformat": 4,
 "nbformat_minor": 4
}
